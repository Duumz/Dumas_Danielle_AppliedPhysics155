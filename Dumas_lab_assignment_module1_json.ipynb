{
  "nbformat": 4,
  "nbformat_minor": 0,
  "metadata": {
    "colab": {
      "provenance": []
    },
    "kernelspec": {
      "name": "python3",
      "display_name": "Python 3"
    }
  },
  "cells": [
    {
      "cell_type": "markdown",
      "metadata": {
        "id": "G0BcK0H_G1Iu"
      },
      "source": [
        "# **AP155 Lab Assignment**\n",
        "## Module 1: Integrals and Derivatives\n",
        "\n",
        "_Instructions_: Answer each problem as completely as you can. Discuss **all** your answers as clearly and concisely as possible.\n",
        "\n",
        "_Scoring Criteria_: 50% - *correctness of code*; 50% - *discussion of the code and results*. Maximum score is **100 points**.\n",
        "\n",
        "\n"
      ]
    },
    {
      "cell_type": "markdown",
      "metadata": {
        "id": "PeHZ9kP8JaVR"
      },
      "source": [
        "### Student Information\n",
        "\n",
        "_Full Name (Last Name, First Name)_: Dumas, Danielle Louis C.\n",
        "\n",
        "\n",
        "_Student No._: 2021-09675\n",
        "\n",
        "\n",
        "_Section_: THU-HX3"
      ]
    },
    {
      "cell_type": "markdown",
      "metadata": {
        "id": "Hc183co-J4eI"
      },
      "source": [
        "### Submission Information\n",
        "\n",
        "_Date and Time Submitted (most recent upload)_: October 25, 2023 / 11:50 pm\n",
        "\n",
        "**HONOR PLEDGE** I affirm that I have upheld the highest principles of honesty and integrity in my academic work and that this lab assignment is my own work.\n",
        "\n",
        "**Sign here with your full name:** DANIELLE LOUIS C. DUMAS"
      ]
    },
    {
      "cell_type": "markdown",
      "metadata": {
        "id": "X1UGsRpW-eQs"
      },
      "source": [
        "### Grading Information (c/o Lab Instructor)\n",
        "\n",
        "TOTAL SCORE: **XX**/100\n",
        "\n",
        "Score breakdown:\n",
        "* Problem 1 - XX/30\n",
        "* Problem 2 - XX/30\n",
        "* Problem 3 - XX/40\n",
        "\n",
        "_Date and Time Scored (MM/DD/YYYY HH:MM AM/PM):_"
      ]
    },
    {
      "cell_type": "markdown",
      "metadata": {
        "id": "LxWuqiCFMsEh"
      },
      "source": [
        "### PROBLEM 1\n",
        "**Integration using the trapezoidal rule and Simpson's rule**\n",
        "\n",
        "Calculate the integral of the function $ 2x^4 + 3x^2 + 4x + 5$ from $x=0$ to $x=5$.\n",
        "\n",
        "1. Do the numerical calculation using the trapezoidal rule with 10, 100, and 1,000 slices. Describe each step of the calculation clearly and concisely. *(10 pts.)*\n",
        "\n",
        "2. What are the percentage errors of your answers in (1)? *(10 pts.)*\n",
        "\n",
        "3. Repeat the calculation using Simpson's rule with 10, 100, and 1,000 slices. Describe each step of the calculation clearly and concisely. *(5 pts.)*\n",
        "\n",
        "4. What are the percentage errors of your answers in (3)? How do they compare with the results from (1) for the same number of slices? *(5 pts.)*"
      ]
    },
    {
      "cell_type": "code",
      "metadata": {
        "id": "hMqWOsbIMoUh",
        "colab": {
          "base_uri": "https://localhost:8080/"
        },
        "outputId": "65507250-b33b-4d34-e366-82da2dc9c02d"
      },
      "source": [
        "def f(x):\n",
        "  return 2*(x**4) + 3*(x**2) + 4*x + 5\n",
        "\n",
        "N = 10\n",
        "a = 0.0\n",
        "b = 5.0\n",
        "\n",
        "print(\"FOR TRAPEZOIDAL RULE: \")\n",
        "for j in range(1,4):\n",
        "  N=10**j #this loops for values N=10, N=10^2=100, N=10^3=1000\n",
        "  h=(b-a)/N\n",
        "  s=0.5*f(a) + 0.5*f(b)\n",
        "  for k in range (1,N):  #since the summation runs from 1 to N-1\n",
        "    s += f(a+k*h)\n",
        "  print(\"For N=\" + str(N))\n",
        "  print(h*s)\n",
        "  print(\"Percentage Error: \" + str((abs(1450 - (h*s))/1450)))\n"
      ],
      "execution_count": null,
      "outputs": [
        {
          "output_type": "stream",
          "name": "stdout",
          "text": [
            "FOR TRAPEZOIDAL RULE: \n",
            "For N=10\n",
            "1471.4375\n",
            "Percentage Error: 0.01478448275862069\n",
            "For N=100\n",
            "1450.2145812500003\n",
            "Percentage Error: 0.00014798706896569988\n",
            "For N=1000\n",
            "1450.0021458331234\n",
            "Percentage Error: 1.4798849127240327e-06\n"
          ]
        }
      ]
    },
    {
      "cell_type": "code",
      "source": [
        "def f(x):\n",
        "  return 2*(x**4) + 3*(x**2) + 4*x + 5\n",
        "\n",
        "N = 10\n",
        "a = 0.0\n",
        "b = 5.0\n",
        "\n",
        "print(\"FOR SIMPSON'S RULE: \")\n",
        "\n",
        "for j in range(1,4):\n",
        "  N=10**j #this loops for values N=10, N=10^2=100, N=10^3=1000\n",
        "  h=(b-a)/N\n",
        "  s=f(a) + f(b)\n",
        "  for k in range(1,N):\n",
        "    if k%2 == 0:  #this if-else function separates the even k from the odd k\n",
        "      s += 2*f(a+k*h) #even part\n",
        "    else:\n",
        "      s += 4*f(a+k*h) #odd part\n",
        "  print(\"For N=\" + str(N))\n",
        "  print((h/3)*s)\n",
        "  print(\"Percentage Error: \" + str((abs(1450 - ((h/3)*s))/1450)))\n",
        "\n",
        "\n",
        "print(\"The percentage errors taken from the Simpson's Rule is relatively smaller than the trapezoidal percentage errors. This tells us that when dealing with this function, the Simpson's RUle is much more accurate.\")"
      ],
      "metadata": {
        "colab": {
          "base_uri": "https://localhost:8080/"
        },
        "id": "7Wwh-4r_jvNd",
        "outputId": "c318f6e0-6510-4fdd-b3bc-3b74f5da6644"
      },
      "execution_count": null,
      "outputs": [
        {
          "output_type": "stream",
          "name": "stdout",
          "text": [
            "FOR SIMPSON'S RULE: \n",
            "For N=10\n",
            "1450.0833333333333\n",
            "Percentage Error: 5.7471264367763824e-05\n",
            "For N=100\n",
            "1450.0000083333334\n",
            "Percentage Error: 5.747126500676226e-09\n",
            "For N=1000\n",
            "1450.0000000008333\n",
            "Percentage Error: 5.747065658616866e-13\n",
            "The percentage errors taken from the Simpson's Rule is relatively smaller than the trapezoidal percentage errors. This tells us that when dealing with this function, the Simpson's RUle is much more accurate.\n"
          ]
        }
      ]
    },
    {
      "cell_type": "markdown",
      "metadata": {
        "id": "m2a6sg90R-NX"
      },
      "source": [
        "### PROBLEM 2\n",
        "\n",
        "**Integration using Gaussian quadrature**\n",
        "\n",
        "Calculate the integral from Problem 1 using the Gaussian quadrature method: $ 2x^4 + 3x^2 + 4x + 5$ from $x=0$ to $x=5$.\n",
        "\n",
        "1. Define the function $\\tt gaussxw$ from Appendix E of the Newman text (and run the cell). *(10 pts.)*\n",
        "\n",
        "2. Calculate the integral using the $\\tt gaussxw$ function in (1) and number of slices $N = 3$. Describe each step in the calculation clearly and concisely. *(20 pts.)*"
      ]
    },
    {
      "cell_type": "code",
      "metadata": {
        "id": "YO_PDJ4VIVs5"
      },
      "source": [
        "#taken from Appendix E of Computational Physics\n",
        "from numpy import ones,copy,cos,tan,pi,linspace\n",
        "\n",
        "def gaussxw(N):\n",
        "\n",
        "  #the initial approximation to roots of Legendre polynomial\n",
        "  a=linspace(3,4*N-1,N)/(4*N+2)\n",
        "  x=cos(pi*a+1/(8*N*N*tan(a)))\n",
        "\n",
        "  #Finding roots\n",
        "  epsilon = 1e-15\n",
        "  delta = 1.0\n",
        "  while delta > epsilon:\n",
        "    p0 = ones(N,float)\n",
        "    p1 = copy(x)\n",
        "    for k in range(1,N):\n",
        "      p0,p1 = p1,((2*k+1)*x*p1-k*p0)/(k+1)\n",
        "    dp = (N+1)*(p0-x*p1)/(1-x*x)\n",
        "    dx = p1/dp\n",
        "    x -= dx\n",
        "    delta = max(abs(dx))\n",
        "\n",
        "  #Calculating weights\n",
        "  w = 2*(N+1)*(N+1)/(N*N*(1-x*x)*dp*dp)\n",
        "\n",
        "  return x,w\n",
        "\n",
        "def gaussxwab(N,a,b):\n",
        "    x,w = gaussxw(N)\n",
        "    return 0.5*(b-a)*x+0.5*(b+a),0.5*(b-a)*w"
      ],
      "execution_count": 3,
      "outputs": []
    },
    {
      "cell_type": "code",
      "source": [
        "def f(x):\n",
        "  return 2*(x**4) + 3*(x**2) + 4*x + 5\n",
        "\n",
        "N = 3\n",
        "a = 0.0\n",
        "b = 5.0\n",
        "\n",
        "x,w = gaussxw(N)\n",
        "xp = 0.5*(b-a)*x + 0.5*(b+a)\n",
        "wp = 0.5*(b-a)*w\n",
        "\n",
        "#Perform the integration (can also be done by defining gquad, like in problem 3)\n",
        "s = 0.0\n",
        "for k in range(N):\n",
        "  s += wp[k]*f(xp[k]) #value of the integral using gaussian quadrature\n",
        "\n",
        "print(s)"
      ],
      "metadata": {
        "colab": {
          "base_uri": "https://localhost:8080/"
        },
        "id": "_3pbIq0BwGxA",
        "outputId": "18cba1e5-ae0e-4a34-8bd5-3001117ffd95"
      },
      "execution_count": 36,
      "outputs": [
        {
          "output_type": "stream",
          "name": "stdout",
          "text": [
            "1450.000000000002\n"
          ]
        }
      ]
    },
    {
      "cell_type": "markdown",
      "metadata": {
        "id": "HceOjNu-VfN9"
      },
      "source": [
        "### PROBLEM 3\n",
        "\n",
        "**Physics Application: Anharmonic Oscillator**\n",
        "\n",
        "_Refer to Exercise 5.10 of the Newman text._ Consider an anharmonic oscillator with potential $V(x)$ symmetric about $x = 0$. Let us set our anharmonic oscillator going with amplitude $a$. That is, at $t = 0$ we release it from rest at position $x = a$ and it swings back towards the origin. Then at $t = 0$ we have $dx/dt = 0$ and the equation for its total energy becomes $E = V(a)$, i.e., the total energy of the particle is given in terms of the amplitude.\n",
        "\n",
        "When the particle reaches the origin for the first time, it has gone through one quarter of a period of the oscillator. The period $T$ is given by: $$ T = \\sqrt{8m} \\int_0^a \\frac{dx}{\\sqrt{V(a)-V(x)}}. $$\n",
        "\n",
        "1. Suppose the potential is $V(x) = x^4$ and the mass of the particle is $m = 1$. Write a Python function that calculates the period of the oscillator for given amplitude a using Gaussian quadrature with $N = 20$ points. Describe each step clearly and concisely. *(20 pts.)*\n",
        "\n",
        "2. Use your function to make a graph of the period for amplitudes ranging from $a = 0$ to $a = 2$. Describe the behavior you find and explain these results clearly and concisely. *(20 pts.)*"
      ]
    },
    {
      "cell_type": "code",
      "source": [
        "from numpy import ones,copy,cos,tan,pi,linspace, sqrt\n",
        "\n",
        "def gaussxw(N):\n",
        "\n",
        "  #the initial approximation to roots of Legendre polynomial\n",
        "  a=linspace(3,4*N-1,N)/(4*N+2)\n",
        "  x=cos(pi*a+1/(8*N*N*tan(a)))\n",
        "\n",
        "  #Finding roots using Newton's method\n",
        "  epsilon = 1e-15\n",
        "  delta = 1.0\n",
        "  while delta > epsilon:\n",
        "    p0 = ones(N,float)\n",
        "    p1 = copy(x)\n",
        "    for k in range(1,N):\n",
        "      p0,p1 = p1,((2*k+1)*x*p1-k*p0)/(k+1)\n",
        "    dp = (N+1)*(p0-x*p1)/(1-x*x)\n",
        "    dx = p1/dp\n",
        "    x -= dx\n",
        "    delta = max(abs(dx))\n",
        "\n",
        "  #Calculating weights\n",
        "  w = 2*(N+1)*(N+1)/(N*N*(1-x*x)*dp*dp)\n",
        "\n",
        "  return x,w\n",
        "\n",
        "def gaussxwab(N,a,b):\n",
        "    x,w = gaussxw(N)\n",
        "    return 0.5*(b-a)*x+0.5*(b+a),0.5*(b-a)*w\n",
        "\n",
        "#Performing the integration, this performs the integration using the function T(x)\n",
        "def gquad(f,b):\n",
        "  xp,wp = gaussxwab(N,a,b)\n",
        "  s = 0.0\n",
        "  for k in range(N):\n",
        "    s+=wp[k]*f(xp[k]) #as given by the value of an integral using gaussian quadrature\n",
        "  return s"
      ],
      "metadata": {
        "id": "asCFGd-fKKWw"
      },
      "execution_count": 28,
      "outputs": []
    },
    {
      "cell_type": "code",
      "metadata": {
        "id": "p28JF-OQYock",
        "colab": {
          "base_uri": "https://localhost:8080/",
          "height": 427
        },
        "outputId": "2f67d88c-7257-419d-8dde-9b1ead613946"
      },
      "source": [
        "import matplotlib.pyplot as plt\n",
        "import math\n",
        "m = 1 #kg\n",
        "N = 20 #points\n",
        "a = 0\n",
        "amplitudes = linspace(0.1,2,N) #we use 0.1 in order to avoid an error but also being as close to a=0 as possible\n",
        "\n",
        "def dTdt(x):  #we just define the given function for T, since the RHS is an integral, then we define the LHS to be an integral as well, thus dTdt\n",
        "  return sqrt(8*m)/sqrt(amp**4-x**4)\n",
        "\n",
        "S = list() #since we are looking for the graph, then we plot multiple points, thus we use a list to compile\n",
        "for amp in amplitudes:\n",
        "  S.append(gquad(dTdt,amp)) #since we defined gquad with arguments f for the function and b as the upper bounds for the integral\n",
        "\n",
        "plt.figure(figsize=(7,4)) #preferred width and height\n",
        "plt.title(\"Period of an Anharmonic Oscillator\")\n",
        "plt.xlabel(\"Amplitude (m)\")\n",
        "plt.ylabel(\"Period (s)\")\n",
        "plt.plot(amplitudes,S,'k')\n",
        "plt.show()\n",
        "\n",
        "print(\"As the amplitude increases, we can notice that the period is decreasing which means that the oscillator increases in speed. We know that the restoring force is directly proportional to the amplitude/displacement, a stronger force corresponds to a faster velocity.\")"
      ],
      "execution_count": 42,
      "outputs": [
        {
          "output_type": "display_data",
          "data": {
            "text/plain": [
              "<Figure size 700x400 with 1 Axes>"
            ],
            "image/png": "[encoded data removed]"
          },
          "metadata": {}
        },
        {
          "output_type": "stream",
          "name": "stdout",
          "text": [
            "As the amplitude increases, we can notice that the period is decreasing which means that the oscillator increases in speed. We know that the restoring force is directly proportional to the amplitude/displacement, a stronger force corresponds to a faster velocity.\n"
          ]
        }
      ]
    }
  ]
}